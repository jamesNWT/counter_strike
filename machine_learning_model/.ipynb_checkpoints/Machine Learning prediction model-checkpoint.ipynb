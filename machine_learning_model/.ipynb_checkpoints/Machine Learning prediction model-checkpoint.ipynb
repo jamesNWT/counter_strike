{
 "cells": [
  {
   "cell_type": "code",
   "execution_count": 1,
   "metadata": {},
   "outputs": [],
   "source": [
    "import pandas as pd\n",
    "import numpy as np"
   ]
  },
  {
   "cell_type": "code",
   "execution_count": 2,
   "metadata": {},
   "outputs": [],
   "source": [
    "matches_raw = pd.read_csv('matches_big.csv')\n",
    "players_raw = pd.read_csv('players_big.csv')"
   ]
  },
  {
   "cell_type": "code",
   "execution_count": 3,
   "metadata": {},
   "outputs": [
    {
     "data": {
      "text/html": [
       "<div>\n",
       "<style scoped>\n",
       "    .dataframe tbody tr th:only-of-type {\n",
       "        vertical-align: middle;\n",
       "    }\n",
       "\n",
       "    .dataframe tbody tr th {\n",
       "        vertical-align: top;\n",
       "    }\n",
       "\n",
       "    .dataframe thead th {\n",
       "        text-align: right;\n",
       "    }\n",
       "</style>\n",
       "<table border=\"1\" class=\"dataframe\">\n",
       "  <thead>\n",
       "    <tr style=\"text-align: right;\">\n",
       "      <th></th>\n",
       "      <th>Date</th>\n",
       "      <th>Team1</th>\n",
       "      <th>Team2</th>\n",
       "      <th>Final Result 1</th>\n",
       "      <th>Final Result 2</th>\n",
       "      <th>Tournament</th>\n",
       "      <th>Link Stats</th>\n",
       "    </tr>\n",
       "  </thead>\n",
       "  <tbody>\n",
       "    <tr>\n",
       "      <th>0</th>\n",
       "      <td>28th of April 2020</td>\n",
       "      <td>Thunder Logic</td>\n",
       "      <td>AA</td>\n",
       "      <td>0</td>\n",
       "      <td>2</td>\n",
       "      <td>eFire Master League North America Season 2</td>\n",
       "      <td>https://www.hltv.org//stats/matches/73666/thun...</td>\n",
       "    </tr>\n",
       "    <tr>\n",
       "      <th>1</th>\n",
       "      <td>28th of April 2020</td>\n",
       "      <td>W7M</td>\n",
       "      <td>DETONA</td>\n",
       "      <td>2</td>\n",
       "      <td>0</td>\n",
       "      <td>CLUTCH Season 2</td>\n",
       "      <td>https://www.hltv.org//stats/matches/73665/w7m-...</td>\n",
       "    </tr>\n",
       "    <tr>\n",
       "      <th>2</th>\n",
       "      <td>27th of April 2020</td>\n",
       "      <td>Alma</td>\n",
       "      <td>Keyd</td>\n",
       "      <td>1</td>\n",
       "      <td>1</td>\n",
       "      <td>CLUTCH Season 2</td>\n",
       "      <td>https://www.hltv.org//stats/matches/73664/alma...</td>\n",
       "    </tr>\n",
       "    <tr>\n",
       "      <th>3</th>\n",
       "      <td>27th of April 2020</td>\n",
       "      <td>AA</td>\n",
       "      <td>ETHEREAL</td>\n",
       "      <td>2</td>\n",
       "      <td>1</td>\n",
       "      <td>eFire Master League North America Season 2</td>\n",
       "      <td>https://www.hltv.org//stats/matches/73663/aa-v...</td>\n",
       "    </tr>\n",
       "    <tr>\n",
       "      <th>4</th>\n",
       "      <td>27th of April 2020</td>\n",
       "      <td>Keep the Comms Up</td>\n",
       "      <td>Thunder Logic</td>\n",
       "      <td>1</td>\n",
       "      <td>2</td>\n",
       "      <td>eFire Master League North America Season 2</td>\n",
       "      <td>https://www.hltv.org//stats/matches/73662/keep...</td>\n",
       "    </tr>\n",
       "  </tbody>\n",
       "</table>\n",
       "</div>"
      ],
      "text/plain": [
       "                 Date              Team1          Team2  Final Result 1  \\\n",
       "0  28th of April 2020      Thunder Logic             AA               0   \n",
       "1  28th of April 2020                W7M         DETONA               2   \n",
       "2  27th of April 2020               Alma           Keyd               1   \n",
       "3  27th of April 2020                 AA       ETHEREAL               2   \n",
       "4  27th of April 2020  Keep the Comms Up  Thunder Logic               1   \n",
       "\n",
       "   Final Result 2                                  Tournament  \\\n",
       "0               2  eFire Master League North America Season 2   \n",
       "1               0                             CLUTCH Season 2   \n",
       "2               1                             CLUTCH Season 2   \n",
       "3               1  eFire Master League North America Season 2   \n",
       "4               2  eFire Master League North America Season 2   \n",
       "\n",
       "                                          Link Stats  \n",
       "0  https://www.hltv.org//stats/matches/73666/thun...  \n",
       "1  https://www.hltv.org//stats/matches/73665/w7m-...  \n",
       "2  https://www.hltv.org//stats/matches/73664/alma...  \n",
       "3  https://www.hltv.org//stats/matches/73663/aa-v...  \n",
       "4  https://www.hltv.org//stats/matches/73662/keep...  "
      ]
     },
     "execution_count": 3,
     "metadata": {},
     "output_type": "execute_result"
    }
   ],
   "source": [
    "matches_raw.head()"
   ]
  },
  {
   "cell_type": "code",
   "execution_count": 4,
   "metadata": {},
   "outputs": [
    {
     "data": {
      "text/html": [
       "<div>\n",
       "<style scoped>\n",
       "    .dataframe tbody tr th:only-of-type {\n",
       "        vertical-align: middle;\n",
       "    }\n",
       "\n",
       "    .dataframe tbody tr th {\n",
       "        vertical-align: top;\n",
       "    }\n",
       "\n",
       "    .dataframe thead th {\n",
       "        text-align: right;\n",
       "    }\n",
       "</style>\n",
       "<table border=\"1\" class=\"dataframe\">\n",
       "  <thead>\n",
       "    <tr style=\"text-align: right;\">\n",
       "      <th></th>\n",
       "      <th>Date</th>\n",
       "      <th>Team1</th>\n",
       "      <th>Team2</th>\n",
       "      <th>Final Result 1</th>\n",
       "      <th>Final Result 2</th>\n",
       "      <th>Tournament</th>\n",
       "      <th>Player Team</th>\n",
       "      <th>Player</th>\n",
       "      <th>KD</th>\n",
       "      <th>ADR</th>\n",
       "      <th>...</th>\n",
       "      <th>Overal Kill / Death</th>\n",
       "      <th>Overall Kill / Round</th>\n",
       "      <th>Overall Rounds with Kills</th>\n",
       "      <th>Overall Kill - Death Diff</th>\n",
       "      <th>Opening Total Kills</th>\n",
       "      <th>Opening Total Deaths</th>\n",
       "      <th>Opening Kill Ratio</th>\n",
       "      <th>Opening Kill rating</th>\n",
       "      <th>Opening Team win percent after 1st kill</th>\n",
       "      <th>Opening 1st kill in won rounds</th>\n",
       "    </tr>\n",
       "  </thead>\n",
       "  <tbody>\n",
       "    <tr>\n",
       "      <th>0</th>\n",
       "      <td>28th of April 2020</td>\n",
       "      <td>Thunder Logic</td>\n",
       "      <td>AA</td>\n",
       "      <td>0</td>\n",
       "      <td>2</td>\n",
       "      <td>eFire Master League North America Season 2</td>\n",
       "      <td>Thunder Logic</td>\n",
       "      <td>Bryce 'PureR' Lovell</td>\n",
       "      <td>26-35</td>\n",
       "      <td>-9</td>\n",
       "      <td>...</td>\n",
       "      <td>1.05</td>\n",
       "      <td>0.77</td>\n",
       "      <td>1904</td>\n",
       "      <td>125</td>\n",
       "      <td>423</td>\n",
       "      <td>390</td>\n",
       "      <td>1.08</td>\n",
       "      <td>1.06</td>\n",
       "      <td>67.8%</td>\n",
       "      <td>15.9%</td>\n",
       "    </tr>\n",
       "    <tr>\n",
       "      <th>1</th>\n",
       "      <td>28th of April 2020</td>\n",
       "      <td>Thunder Logic</td>\n",
       "      <td>AA</td>\n",
       "      <td>0</td>\n",
       "      <td>2</td>\n",
       "      <td>eFire Master League North America Season 2</td>\n",
       "      <td>Thunder Logic</td>\n",
       "      <td>Andy 'Andersin' Collins</td>\n",
       "      <td>31-40</td>\n",
       "      <td>-9</td>\n",
       "      <td>...</td>\n",
       "      <td>0.95</td>\n",
       "      <td>0.70</td>\n",
       "      <td>1106</td>\n",
       "      <td>-84</td>\n",
       "      <td>241</td>\n",
       "      <td>292</td>\n",
       "      <td>0.83</td>\n",
       "      <td>0.96</td>\n",
       "      <td>66.4%</td>\n",
       "      <td>13.7%</td>\n",
       "    </tr>\n",
       "    <tr>\n",
       "      <th>2</th>\n",
       "      <td>28th of April 2020</td>\n",
       "      <td>Thunder Logic</td>\n",
       "      <td>AA</td>\n",
       "      <td>0</td>\n",
       "      <td>2</td>\n",
       "      <td>eFire Master League North America Season 2</td>\n",
       "      <td>Thunder Logic</td>\n",
       "      <td>Brian 'Brian2K' Ladron De Guevara</td>\n",
       "      <td>24-38</td>\n",
       "      <td>-14</td>\n",
       "      <td>...</td>\n",
       "      <td>1.14</td>\n",
       "      <td>0.77</td>\n",
       "      <td>1003</td>\n",
       "      <td>188</td>\n",
       "      <td>235</td>\n",
       "      <td>185</td>\n",
       "      <td>1.27</td>\n",
       "      <td>1.11</td>\n",
       "      <td>69.8%</td>\n",
       "      <td>17.2%</td>\n",
       "    </tr>\n",
       "    <tr>\n",
       "      <th>3</th>\n",
       "      <td>28th of April 2020</td>\n",
       "      <td>Thunder Logic</td>\n",
       "      <td>AA</td>\n",
       "      <td>0</td>\n",
       "      <td>2</td>\n",
       "      <td>eFire Master League North America Season 2</td>\n",
       "      <td>Thunder Logic</td>\n",
       "      <td>Sean 'Inseaniac' Morrison</td>\n",
       "      <td>23-38</td>\n",
       "      <td>-15</td>\n",
       "      <td>...</td>\n",
       "      <td>0.80</td>\n",
       "      <td>0.57</td>\n",
       "      <td>290</td>\n",
       "      <td>-101</td>\n",
       "      <td>42</td>\n",
       "      <td>64</td>\n",
       "      <td>0.66</td>\n",
       "      <td>0.81</td>\n",
       "      <td>66.7%</td>\n",
       "      <td>8.7%</td>\n",
       "    </tr>\n",
       "    <tr>\n",
       "      <th>4</th>\n",
       "      <td>28th of April 2020</td>\n",
       "      <td>Thunder Logic</td>\n",
       "      <td>AA</td>\n",
       "      <td>0</td>\n",
       "      <td>2</td>\n",
       "      <td>eFire Master League North America Season 2</td>\n",
       "      <td>Thunder Logic</td>\n",
       "      <td>Brandon 'Sharkie' Ly</td>\n",
       "      <td>25-37</td>\n",
       "      <td>-12</td>\n",
       "      <td>...</td>\n",
       "      <td>0.77</td>\n",
       "      <td>0.58</td>\n",
       "      <td>438</td>\n",
       "      <td>-189</td>\n",
       "      <td>75</td>\n",
       "      <td>124</td>\n",
       "      <td>0.60</td>\n",
       "      <td>0.82</td>\n",
       "      <td>73.3%</td>\n",
       "      <td>11.4%</td>\n",
       "    </tr>\n",
       "  </tbody>\n",
       "</table>\n",
       "<p>5 rows × 25 columns</p>\n",
       "</div>"
      ],
      "text/plain": [
       "                 Date          Team1 Team2  Final Result 1  Final Result 2  \\\n",
       "0  28th of April 2020  Thunder Logic    AA               0               2   \n",
       "1  28th of April 2020  Thunder Logic    AA               0               2   \n",
       "2  28th of April 2020  Thunder Logic    AA               0               2   \n",
       "3  28th of April 2020  Thunder Logic    AA               0               2   \n",
       "4  28th of April 2020  Thunder Logic    AA               0               2   \n",
       "\n",
       "                                   Tournament    Player Team  \\\n",
       "0  eFire Master League North America Season 2  Thunder Logic   \n",
       "1  eFire Master League North America Season 2  Thunder Logic   \n",
       "2  eFire Master League North America Season 2  Thunder Logic   \n",
       "3  eFire Master League North America Season 2  Thunder Logic   \n",
       "4  eFire Master League North America Season 2  Thunder Logic   \n",
       "\n",
       "                              Player     KD  ADR  ...  Overal Kill / Death  \\\n",
       "0               Bryce 'PureR' Lovell  26-35   -9  ...                 1.05   \n",
       "1            Andy 'Andersin' Collins  31-40   -9  ...                 0.95   \n",
       "2  Brian 'Brian2K' Ladron De Guevara  24-38  -14  ...                 1.14   \n",
       "3          Sean 'Inseaniac' Morrison  23-38  -15  ...                 0.80   \n",
       "4               Brandon 'Sharkie' Ly  25-37  -12  ...                 0.77   \n",
       "\n",
       "  Overall Kill / Round Overall Rounds with Kills  Overall Kill - Death Diff  \\\n",
       "0                 0.77                      1904                        125   \n",
       "1                 0.70                      1106                        -84   \n",
       "2                 0.77                      1003                        188   \n",
       "3                 0.57                       290                       -101   \n",
       "4                 0.58                       438                       -189   \n",
       "\n",
       "   Opening Total Kills  Opening Total Deaths  Opening Kill Ratio  \\\n",
       "0                  423                   390                1.08   \n",
       "1                  241                   292                0.83   \n",
       "2                  235                   185                1.27   \n",
       "3                   42                    64                0.66   \n",
       "4                   75                   124                0.60   \n",
       "\n",
       "   Opening Kill rating  Opening Team win percent after 1st kill  \\\n",
       "0                 1.06                                    67.8%   \n",
       "1                 0.96                                    66.4%   \n",
       "2                 1.11                                    69.8%   \n",
       "3                 0.81                                    66.7%   \n",
       "4                 0.82                                    73.3%   \n",
       "\n",
       "   Opening 1st kill in won rounds  \n",
       "0                           15.9%  \n",
       "1                           13.7%  \n",
       "2                           17.2%  \n",
       "3                            8.7%  \n",
       "4                           11.4%  \n",
       "\n",
       "[5 rows x 25 columns]"
      ]
     },
     "execution_count": 4,
     "metadata": {},
     "output_type": "execute_result"
    }
   ],
   "source": [
    "players_raw.head()"
   ]
  },
  {
   "cell_type": "code",
   "execution_count": 5,
   "metadata": {},
   "outputs": [],
   "source": [
    "#creating Date + team1 + team2 +finalresult1 + finalresult2 + tournament column to cross data on matches\n",
    "matchcolumn = []\n",
    "\n",
    "i = 0\n",
    "while i <= (matches_raw.shape[0]-1):\n",
    "    date = matches_raw.iloc[i]['Date']\n",
    "    team1 = matches_raw.iloc[i]['Team1']\n",
    "    team2 = matches_raw.iloc[i]['Team2']\n",
    "    fr1= matches_raw.iloc[i]['Final Result 1']\n",
    "    fr2= matches_raw.iloc[i]['Final Result 2']\n",
    "    tournament= matches_raw.iloc[i]['Tournament']\n",
    "    \n",
    "    matchcolumn.append(str(date)+str(team1)+str(team2)+str(fr1)+str(fr2)+str(tournament))\n",
    "    i+=1\n",
    "    \n",
    "matches_raw['Match column']=matchcolumn\n",
    "\n",
    "#creating Date + team1 + team2 +finalresult1 + finalresult2 + tournament column to cross data on players\n",
    "matchcolumn = []\n",
    "\n",
    "i = 0\n",
    "while i <= (players_raw.shape[0]-1):\n",
    "    date = players_raw.iloc[i]['Date']\n",
    "    team1 = players_raw.iloc[i]['Team1']\n",
    "    team2 = players_raw.iloc[i]['Team2']\n",
    "    fr1= players_raw.iloc[i]['Final Result 1']\n",
    "    fr2= players_raw.iloc[i]['Final Result 2']\n",
    "    tournament= players_raw.iloc[i]['Tournament']\n",
    "    \n",
    "    matchcolumn.append(str(date)+str(team1)+str(team2)+str(fr1)+str(fr2)+str(tournament))\n",
    "    i+=1\n",
    "    \n",
    "players_raw['Match column']=matchcolumn"
   ]
  },
  {
   "cell_type": "code",
   "execution_count": 6,
   "metadata": {},
   "outputs": [],
   "source": [
    "total_adr_team1 = []\n",
    "total_adr_team2 = []\n",
    "\n",
    "i = 0 \n",
    "while i <= (matches_raw.shape[0]-1):\n",
    "    total1=players_raw[players_raw['Match column']==matches_raw.iloc[i]['Match column']]\n",
    "    total=total1[total1['Player Team']==matches_raw.iloc[i]['Team1']].sum()['ADR']\n",
    "    total_adr_team1.append(total)\n",
    "    \n",
    "    total2=players_raw[players_raw['Match column']==matches_raw.iloc[i]['Match column']]\n",
    "    total2=total1[total1['Player Team']==matches_raw.iloc[i]['Team2']].sum()['ADR']\n",
    "    total_adr_team2.append(total2)\n",
    "    \n",
    "    i+=1\n",
    "    \n",
    "matches_raw['Total KD Team1']=total_adr_team1\n",
    "matches_raw['Total KD Team2']=total_adr_team2"
   ]
  },
  {
   "cell_type": "code",
   "execution_count": 7,
   "metadata": {},
   "outputs": [],
   "source": [
    "#make team 1 victory column\n",
    "team1Victory = []\n",
    "i = 0 \n",
    "while i <= (matches_raw.shape[0]-1):\n",
    "    if matches_raw.iloc[i]['Final Result 1']>matches_raw.iloc[i]['Final Result 2']:\n",
    "        team1Victory.append(1)\n",
    "    elif matches_raw.iloc[i]['Final Result 1']<matches_raw.iloc[i]['Final Result 2']:\n",
    "        team1Victory.append(0)\n",
    "    else:\n",
    "        team1Victory.append(2)\n",
    "    i+=1\n",
    "        \n",
    "matches_raw['Team1 victory']=team1Victory"
   ]
  },
  {
   "cell_type": "code",
   "execution_count": 8,
   "metadata": {},
   "outputs": [
    {
     "data": {
      "image/png": "[encoded data removed]",
      "text/plain": [
       "<Figure size 432x288 with 2 Axes>"
      ]
     },
     "metadata": {
      "needs_background": "light"
     },
     "output_type": "display_data"
    }
   ],
   "source": [
    "import seaborn as sn\n",
    "import matplotlib.pyplot as plt\n",
    "\n",
    "plt.subplot(1,2,1)\n",
    "sn.distplot(a=matches_raw[matches_raw['Team1 victory']==1]['Total KD Team1'],label='Team 1 wins',kde=False)\n",
    "sn.distplot(a=matches_raw[matches_raw['Team1 victory']==0]['Total KD Team1'],label='Team 1 loses',kde=False)\n",
    "plt.legend()\n",
    "\n",
    "plt.subplot(1,2,2)\n",
    "sn.distplot(a=matches_raw[matches_raw['Team1 victory']==0]['Total KD Team2'],label='Team 2 wins',kde=False)\n",
    "sn.distplot(a=matches_raw[matches_raw['Team1 victory']==1]['Total KD Team2'],label='Team 2 loses',kde=False)\n",
    "plt.legend()\n",
    "\n",
    "\n",
    "plt.show()"
   ]
  },
  {
   "cell_type": "markdown",
   "metadata": {},
   "source": [
    "As we can see on the distribution plot above, most of the time team 1 is the winner team, it has a positive total kill difference, and we can see the same effect on team 2 plot, but on the opposite side."
   ]
  },
  {
   "cell_type": "code",
   "execution_count": 11,
   "metadata": {},
   "outputs": [
    {
     "name": "stdout",
     "output_type": "stream",
     "text": [
      "<class 'pandas.core.frame.DataFrame'>\n",
      "RangeIndex: 17603 entries, 0 to 17602\n",
      "Data columns (total 26 columns):\n",
      " #   Column                                   Non-Null Count  Dtype  \n",
      "---  ------                                   --------------  -----  \n",
      " 0   Date                                     17603 non-null  object \n",
      " 1   Team1                                    17603 non-null  object \n",
      " 2   Team2                                    17603 non-null  object \n",
      " 3   Final Result 1                           17603 non-null  int64  \n",
      " 4   Final Result 2                           17603 non-null  int64  \n",
      " 5   Tournament                               17603 non-null  object \n",
      " 6   Player Team                              17603 non-null  object \n",
      " 7   Player                                   17603 non-null  object \n",
      " 8   KD                                       17603 non-null  object \n",
      " 9   ADR                                      17603 non-null  int64  \n",
      " 10  KAST                                     17603 non-null  float64\n",
      " 11  Rating                                   17603 non-null  object \n",
      " 12  Map                                      17603 non-null  object \n",
      " 13  Overall Kills                            17603 non-null  int64  \n",
      " 14  Overall Deaths                           17603 non-null  int64  \n",
      " 15  Overal Kill / Death                      17603 non-null  float64\n",
      " 16  Overall Kill / Round                     17603 non-null  float64\n",
      " 17  Overall Rounds with Kills                17603 non-null  int64  \n",
      " 18  Overall Kill - Death Diff                17603 non-null  int64  \n",
      " 19  Opening Total Kills                      17603 non-null  int64  \n",
      " 20  Opening Total Deaths                     17603 non-null  int64  \n",
      " 21  Opening Kill Ratio                       17603 non-null  float64\n",
      " 22  Opening Kill rating                      17603 non-null  float64\n",
      " 23  Opening Team win percent after 1st kill  17603 non-null  object \n",
      " 24  Opening 1st kill in won rounds           17603 non-null  object \n",
      " 25  Opposing Team                            17603 non-null  object \n",
      "dtypes: float64(5), int64(9), object(12)\n",
      "memory usage: 3.5+ MB\n"
     ]
    }
   ],
   "source": [
    "train_X=pd.read_csv('players_big.csv')\n",
    "\n",
    "##- create opposing team data\n",
    "\n",
    "opposing_team = []\n",
    "i = 0\n",
    "while i<=(train_X.shape[0]-1):\n",
    "    if train_X.iloc[i]['Player Team'] == train_X.iloc[i]['Team1']:\n",
    "        opposing_team.append(train_X.iloc[i]['Team2'])\n",
    "    else:\n",
    "        opposing_team.append(train_X.iloc[i]['Team2'])\n",
    "    i+=1\n",
    "    \n",
    "train_X['Opposing Team']=opposing_team\n",
    "\n",
    "train_X.info()"
   ]
  },
  {
   "cell_type": "code",
   "execution_count": 12,
   "metadata": {},
   "outputs": [
    {
     "name": "stdout",
     "output_type": "stream",
     "text": [
      "<class 'pandas.core.frame.DataFrame'>\n",
      "RangeIndex: 17603 entries, 0 to 17602\n",
      "Data columns (total 15 columns):\n",
      " #   Column                                   Non-Null Count  Dtype  \n",
      "---  ------                                   --------------  -----  \n",
      " 0   Player                                   17603 non-null  object \n",
      " 1   Player Team                              17603 non-null  object \n",
      " 2   Overall Kills                            17603 non-null  int64  \n",
      " 3   Overall Deaths                           17603 non-null  int64  \n",
      " 4   Overal Kill / Death                      17603 non-null  float64\n",
      " 5   Overall Kill / Round                     17603 non-null  float64\n",
      " 6   Overall Rounds with Kills                17603 non-null  int64  \n",
      " 7   Overall Kill - Death Diff                17603 non-null  int64  \n",
      " 8   Opening Total Kills                      17603 non-null  int64  \n",
      " 9   Opening Total Deaths                     17603 non-null  int64  \n",
      " 10  Opening Kill Ratio                       17603 non-null  float64\n",
      " 11  Opening Kill rating                      17603 non-null  float64\n",
      " 12  Opening Team win percent after 1st kill  17603 non-null  object \n",
      " 13  Opening 1st kill in won rounds           17603 non-null  object \n",
      " 14  Opposing Team                            17603 non-null  object \n",
      "dtypes: float64(4), int64(6), object(5)\n",
      "memory usage: 2.0+ MB\n"
     ]
    }
   ],
   "source": [
    "columnsModel = ['Player','Player Team','Overall Kills','Overall Deaths','Overal Kill / Death','Overall Kill / Round','Overall Rounds with Kills',\n",
    "               'Overall Kill - Death Diff','Opening Total Kills','Opening Total Deaths','Opening Kill Ratio', 'Opening Kill rating',\n",
    "               'Opening Team win percent after 1st kill','Opening 1st kill in won rounds','Opposing Team']\n",
    "\n",
    "train_columns_X = train_X[columnsModel]\n",
    "train_columns_X.info()"
   ]
  },
  {
   "cell_type": "code",
   "execution_count": 13,
   "metadata": {},
   "outputs": [
    {
     "name": "stdout",
     "output_type": "stream",
     "text": [
      "<class 'pandas.core.frame.DataFrame'>\n",
      "RangeIndex: 17603 entries, 0 to 17602\n",
      "Data columns (total 15 columns):\n",
      " #   Column                                         Non-Null Count  Dtype  \n",
      "---  ------                                         --------------  -----  \n",
      " 0   Player                                         17603 non-null  object \n",
      " 1   Player Team                                    17603 non-null  object \n",
      " 2   Overall Kills                                  17603 non-null  int64  \n",
      " 3   Overall Deaths                                 17603 non-null  int64  \n",
      " 4   Overal Kill / Death                            17603 non-null  float64\n",
      " 5   Overall Kill / Round                           17603 non-null  float64\n",
      " 6   Overall Rounds with Kills                      17603 non-null  int64  \n",
      " 7   Overall Kill - Death Diff                      17603 non-null  int64  \n",
      " 8   Opening Total Kills                            17603 non-null  int64  \n",
      " 9   Opening Total Deaths                           17603 non-null  int64  \n",
      " 10  Opening Kill Ratio                             17603 non-null  float64\n",
      " 11  Opening Kill rating                            17603 non-null  float64\n",
      " 12  Opposing Team                                  17603 non-null  object \n",
      " 13  Opening 1st kill in won rounds float           17603 non-null  float64\n",
      " 14  Opening Team win percent after 1st kill float  17603 non-null  float64\n",
      "dtypes: float64(6), int64(6), object(3)\n",
      "memory usage: 2.0+ MB\n"
     ]
    },
    {
     "name": "stderr",
     "output_type": "stream",
     "text": [
      "C:\\Users\\jefms\\AppData\\Roaming\\Python\\Python36\\site-packages\\ipykernel_launcher.py:15: SettingWithCopyWarning: \n",
      "A value is trying to be set on a copy of a slice from a DataFrame.\n",
      "Try using .loc[row_indexer,col_indexer] = value instead\n",
      "\n",
      "See the caveats in the documentation: https://pandas.pydata.org/pandas-docs/stable/user_guide/indexing.html#returning-a-view-versus-a-copy\n",
      "  from ipykernel import kernelapp as app\n",
      "C:\\Users\\jefms\\AppData\\Roaming\\Python\\Python36\\site-packages\\ipykernel_launcher.py:16: SettingWithCopyWarning: \n",
      "A value is trying to be set on a copy of a slice from a DataFrame.\n",
      "Try using .loc[row_indexer,col_indexer] = value instead\n",
      "\n",
      "See the caveats in the documentation: https://pandas.pydata.org/pandas-docs/stable/user_guide/indexing.html#returning-a-view-versus-a-copy\n",
      "  app.launch_new_instance()\n",
      "C:\\Users\\jefms\\AppData\\Local\\Programs\\Python\\Python36\\lib\\site-packages\\pandas\\core\\frame.py:3997: SettingWithCopyWarning: \n",
      "A value is trying to be set on a copy of a slice from a DataFrame\n",
      "\n",
      "See the caveats in the documentation: https://pandas.pydata.org/pandas-docs/stable/user_guide/indexing.html#returning-a-view-versus-a-copy\n",
      "  errors=errors,\n"
     ]
    }
   ],
   "source": [
    "#transform % to float\n",
    "\n",
    "first_kill = []\n",
    "win_percent=[]\n",
    "\n",
    "i = 0\n",
    "while i<=(train_columns_X.shape[0]-1):\n",
    "    first_kill.append(float(train_columns_X.iloc[i]['Opening 1st kill in won rounds'][0:-1])/100)\n",
    "    try:\n",
    "        win_percent.append(float(train_columns_X.iloc[i]['Opening Team win percent after 1st kill'][0:-1])/100)\n",
    "    except:\n",
    "        win_percent.append(0)\n",
    "    i+=1\n",
    "    \n",
    "train_columns_X['Opening 1st kill in won rounds float']=first_kill\n",
    "train_columns_X['Opening Team win percent after 1st kill float']=win_percent\n",
    "\n",
    "train_columns_X.drop(['Opening 1st kill in won rounds','Opening Team win percent after 1st kill'],axis=1,inplace=True)\n",
    "\n",
    "train_columns_X.info()\n"
   ]
  },
  {
   "cell_type": "code",
   "execution_count": 14,
   "metadata": {},
   "outputs": [],
   "source": [
    "train_columns_y = train_X['ADR']"
   ]
  },
  {
   "cell_type": "code",
   "execution_count": 15,
   "metadata": {},
   "outputs": [
    {
     "name": "stdout",
     "output_type": "stream",
     "text": [
      "<class 'pandas.core.frame.DataFrame'>\n",
      "RangeIndex: 17603 entries, 0 to 17602\n",
      "Data columns (total 15 columns):\n",
      " #   Column                                         Non-Null Count  Dtype  \n",
      "---  ------                                         --------------  -----  \n",
      " 0   Overall Kills                                  17603 non-null  int64  \n",
      " 1   Overall Deaths                                 17603 non-null  int64  \n",
      " 2   Overal Kill / Death                            17603 non-null  float64\n",
      " 3   Overall Kill / Round                           17603 non-null  float64\n",
      " 4   Overall Rounds with Kills                      17603 non-null  int64  \n",
      " 5   Overall Kill - Death Diff                      17603 non-null  int64  \n",
      " 6   Opening Total Kills                            17603 non-null  int64  \n",
      " 7   Opening Total Deaths                           17603 non-null  int64  \n",
      " 8   Opening Kill Ratio                             17603 non-null  float64\n",
      " 9   Opening Kill rating                            17603 non-null  float64\n",
      " 10  Opening 1st kill in won rounds float           17603 non-null  float64\n",
      " 11  Opening Team win percent after 1st kill float  17603 non-null  float64\n",
      " 12  Player_target                                  17603 non-null  float64\n",
      " 13  Player Team_target                             17603 non-null  float64\n",
      " 14  Opposing Team_target                           17603 non-null  float64\n",
      "dtypes: float64(9), int64(6)\n",
      "memory usage: 2.0 MB\n"
     ]
    }
   ],
   "source": [
    "#encoding objects\n",
    "import category_encoders as ce\n",
    "\n",
    "cat_features_encoding=['Player','Player Team','Opposing Team']\n",
    "\n",
    "target_enc=ce.TargetEncoder(cols=cat_features_encoding)\n",
    "\n",
    "target_enc.fit(train_columns_X[cat_features_encoding],train_columns_y)\n",
    "\n",
    "train_encoded_X = train_columns_X.join(target_enc.transform(train_columns_X[cat_features_encoding]).add_suffix('_target'))\n",
    "\n",
    "train_encoded_X.drop(['Player','Player Team','Opposing Team'],axis=1,inplace=True)\n",
    "\n",
    "train_encoded_X.info()"
   ]
  },
  {
   "cell_type": "code",
   "execution_count": 16,
   "metadata": {},
   "outputs": [],
   "source": [
    "from sklearn.model_selection import train_test_split\n",
    "from sklearn.model_selection import cross_val_score\n",
    "from xgboost import XGBRegressor\n",
    "from sklearn.metrics import mean_absolute_error\n",
    "from sklearn.ensemble import RandomForestRegressor"
   ]
  },
  {
   "cell_type": "code",
   "execution_count": 17,
   "metadata": {},
   "outputs": [],
   "source": [
    "def score(model,modelname):\n",
    "    score = -1*cross_val_score(model,train_encoded_X,train_columns_y,\n",
    "                                cv=5,\n",
    "                                scoring='neg_mean_absolute_error')\n",
    "    print('Target encoding '+modelname+':')\n",
    "    print(score.mean())"
   ]
  },
  {
   "cell_type": "code",
   "execution_count": 18,
   "metadata": {},
   "outputs": [
    {
     "name": "stdout",
     "output_type": "stream",
     "text": [
      "Target encoding XGB:\n",
      "7.412924009161044\n",
      "Target encoding XGB:\n",
      "7.418158787888041\n",
      "Target encoding XGB:\n",
      "7.423089915026301\n",
      "Target encoding XGB:\n",
      "7.427988940256199\n",
      "Target encoding XGB:\n",
      "7.431310871365712\n",
      "Target encoding XGB:\n",
      "7.434676447002488\n",
      "Target encoding XGB:\n",
      "7.437880732183386\n",
      "Target encoding XGB:\n",
      "7.442309479042403\n",
      "Target encoding XGB:\n",
      "7.4477246498924075\n"
     ]
    }
   ],
   "source": [
    "for i in range(350,800,50):\n",
    "    XGBmodel=XGBRegressor(n_estimators=i,learning_rate=0.01)\n",
    "\n",
    "    score(XGBmodel,'XGB')"
   ]
  },
  {
   "cell_type": "code",
   "execution_count": 19,
   "metadata": {},
   "outputs": [
    {
     "name": "stdout",
     "output_type": "stream",
     "text": [
      "Target encoding Random Forest:\n",
      "8.0092776444902\n",
      "Target encoding Random Forest:\n",
      "7.984273002713896\n",
      "Target encoding Random Forest:\n",
      "7.978931528564162\n",
      "Target encoding Random Forest:\n",
      "7.974462026236084\n",
      "Target encoding Random Forest:\n",
      "7.974472371023293\n",
      "Target encoding Random Forest:\n",
      "7.9742159920399915\n",
      "Target encoding Random Forest:\n",
      "7.972092796515533\n",
      "Target encoding Random Forest:\n",
      "7.970924964217495\n",
      "Target encoding Random Forest:\n",
      "7.9689166725546885\n"
     ]
    }
   ],
   "source": [
    "for i in range(50,500,50):\n",
    "    RandomForestmodel=RandomForestRegressor(n_estimators=i,random_state=1)\n",
    "\n",
    "    score(RandomForestmodel,'Random Forest')"
   ]
  },
  {
   "cell_type": "code",
   "execution_count": 21,
   "metadata": {},
   "outputs": [],
   "source": [
    "X_train,X_valid,y_train,y_valid = train_test_split(train_encoded_X,train_columns_y,train_size=0.75,test_size=0.25,random_state=0)"
   ]
  },
  {
   "cell_type": "markdown",
   "metadata": {},
   "source": [
    "We follow with XGBoost which showed a smaller error."
   ]
  },
  {
   "cell_type": "code",
   "execution_count": 22,
   "metadata": {},
   "outputs": [
    {
     "name": "stderr",
     "output_type": "stream",
     "text": [
      "C:\\Users\\jefms\\AppData\\Local\\Programs\\Python\\Python36\\lib\\site-packages\\sklearn\\model_selection\\_search.py:823: FutureWarning: The parameter 'iid' is deprecated in 0.22 and will be removed in 0.24.\n",
      "  \"removed in 0.24.\", FutureWarning\n"
     ]
    },
    {
     "name": "stdout",
     "output_type": "stream",
     "text": [
      "{'max_depth': 5, 'min_child_weight': 5}\n"
     ]
    }
   ],
   "source": [
    "from sklearn import model_selection\n",
    "param_test_1={\n",
    "    'max_depth':range(3,10,2),\n",
    "    'min_child_weight':range(1,6,2)\n",
    "}\n",
    "\n",
    "gsearch1 = model_selection.GridSearchCV(XGBRegressor(n_estimators=250,learning_rate=0.01,max_depth=5,min_child_weight=1,gamma=0,subsample=0.8,colsample_bytree=0.8,nthread=4,scale_pos_weight=1,seed=27),param_grid=param_test_1,scoring='neg_mean_absolute_error',cv=5,n_jobs=4,iid=False)\n",
    "gsearch1.fit(X_train,y_train)\n",
    "print(gsearch1.best_params_)"
   ]
  },
  {
   "cell_type": "code",
   "execution_count": 23,
   "metadata": {},
   "outputs": [
    {
     "name": "stdout",
     "output_type": "stream",
     "text": [
      "{'max_depth': 3, 'min_child_weight': 0}\n"
     ]
    }
   ],
   "source": [
    "param_test_2={\n",
    "    'max_depth':range(1,4,1),\n",
    "    'min_child_weight':range(0,1,1)\n",
    "}\n",
    "\n",
    "gsearch2 = model_selection.GridSearchCV(XGBRegressor(n_estimators=150,learning_rate=0.011,max_depth=5,min_child_weight=1,gamma=0,subsample=0.8,colsample_bytree=0.8,nthread=4,scale_pos_weight=1,seed=27),param_grid=param_test_2,scoring='neg_mean_absolute_error',cv=5,n_jobs=4,iid=False)\n",
    "gsearch2.fit(X_train,y_train)\n",
    "print(gsearch2.best_params_)"
   ]
  },
  {
   "cell_type": "code",
   "execution_count": 24,
   "metadata": {},
   "outputs": [
    {
     "name": "stdout",
     "output_type": "stream",
     "text": [
      "{'min_child_weight': 0}\n"
     ]
    }
   ],
   "source": [
    "param_test_3={\n",
    "    'min_child_weight':range(-2,1,1)\n",
    "}\n",
    "\n",
    "gsearch3 = model_selection.GridSearchCV(XGBRegressor(n_estimators=150,learning_rate=0.011,max_depth=3,min_child_weight=1,gamma=0,subsample=0.8,colsample_bytree=0.8,nthread=4,scale_pos_weight=1,seed=27),param_grid=param_test_3,scoring='neg_mean_absolute_error',cv=5,n_jobs=4,iid=False)\n",
    "gsearch3.fit(X_train,y_train)\n",
    "print(gsearch3.best_params_)"
   ]
  },
  {
   "cell_type": "code",
   "execution_count": 25,
   "metadata": {},
   "outputs": [
    {
     "name": "stdout",
     "output_type": "stream",
     "text": [
      "{'gamma': 0.0}\n"
     ]
    }
   ],
   "source": [
    "param_test_4={\n",
    "    'gamma':[i/10.0 for i in range (0,5)]\n",
    "}\n",
    "\n",
    "gsearch4 = model_selection.GridSearchCV(XGBRegressor(n_estimators=250,learning_rate=0.011,max_depth=5,min_child_weight=5,gamma=0,subsample=0.8,colsample_bytree=0.8,nthread=4,scale_pos_weight=1,seed=27),param_grid=param_test_4,scoring='neg_mean_absolute_error',cv=5,n_jobs=4,iid=False)\n",
    "gsearch4.fit(X_train,y_train)\n",
    "print(gsearch4.best_params_)"
   ]
  },
  {
   "cell_type": "code",
   "execution_count": 27,
   "metadata": {},
   "outputs": [
    {
     "name": "stdout",
     "output_type": "stream",
     "text": [
      "{'gamma': 0.0}\n"
     ]
    }
   ],
   "source": [
    "param_test_5={\n",
    "    'gamma':[i/10.0 for i in range (-5,1)]\n",
    "}\n",
    "\n",
    "gsearch5 = model_selection.GridSearchCV(XGBRegressor(n_estimators=250,learning_rate=0.011,max_depth=5,min_child_weight=5,gamma=0,subsample=0.8,colsample_bytree=0.8,nthread=4,scale_pos_weight=1,seed=27),param_grid=param_test_4,scoring='neg_mean_absolute_error',cv=5,n_jobs=4,iid=False)\n",
    "gsearch5.fit(X_train,y_train)\n",
    "print(gsearch5.best_params_)"
   ]
  },
  {
   "cell_type": "code",
   "execution_count": 28,
   "metadata": {},
   "outputs": [
    {
     "name": "stdout",
     "output_type": "stream",
     "text": [
      "50\n",
      "Target encoding XGB:\n",
      "7.774064067045343\n",
      "100\n",
      "Target encoding XGB:\n",
      "7.527041682458628\n",
      "150\n",
      "Target encoding XGB:\n",
      "7.431865716611422\n",
      "200\n",
      "Target encoding XGB:\n",
      "7.396179089597284\n",
      "250\n",
      "Target encoding XGB:\n",
      "7.383400831682254\n",
      "300\n",
      "Target encoding XGB:\n",
      "7.382066739680529\n",
      "350\n",
      "Target encoding XGB:\n",
      "7.384098319892476\n",
      "400\n",
      "Target encoding XGB:\n",
      "7.386560316612952\n",
      "450\n",
      "Target encoding XGB:\n",
      "7.389893130859508\n",
      "500\n",
      "Target encoding XGB:\n",
      "7.393016423951536\n"
     ]
    }
   ],
   "source": [
    "for i in range(50,550,50):\n",
    "    XGBmodel=XGBRegressor(n_estimators=i,learning_rate=0.011,max_depth=5,min_child_weight=5,gamma=0,subsample=0.8,colsample_bytree=0.8,nthread=4,scale_pos_weight=1,seed=27)\n",
    "    print(i)\n",
    "    score(XGBmodel,'XGB')"
   ]
  },
  {
   "cell_type": "code",
   "execution_count": 29,
   "metadata": {},
   "outputs": [
    {
     "name": "stderr",
     "output_type": "stream",
     "text": [
      "C:\\Users\\jefms\\AppData\\Local\\Programs\\Python\\Python36\\lib\\site-packages\\sklearn\\model_selection\\_search.py:823: FutureWarning: The parameter 'iid' is deprecated in 0.22 and will be removed in 0.24.\n",
      "  \"removed in 0.24.\", FutureWarning\n"
     ]
    },
    {
     "name": "stdout",
     "output_type": "stream",
     "text": [
      "{'colsample_bytree': 0.9, 'subsample': 0.9}\n"
     ]
    }
   ],
   "source": [
    "param_test_6={\n",
    "    'subsample':[i/10 for i in range(6,10)],\n",
    "    'colsample_bytree':[i/10 for i in range(6,10)]\n",
    "}\n",
    "\n",
    "gsearch6 = model_selection.GridSearchCV(XGBRegressor(n_estimators=300,learning_rate=0.011,max_depth=5,min_child_weight=5,gamma=0,subsample=0.8,colsample_bytree=0.8,nthread=4,scale_pos_weight=1,seed=27),param_grid=param_test_6,scoring='neg_mean_absolute_error',cv=5,n_jobs=4,iid=False)\n",
    "gsearch6.fit(X_train,y_train)\n",
    "print(gsearch6.best_params_)"
   ]
  },
  {
   "cell_type": "code",
   "execution_count": 30,
   "metadata": {},
   "outputs": [
    {
     "name": "stdout",
     "output_type": "stream",
     "text": [
      "{'colsample_bytree': 0.95, 'subsample': 0.85}\n"
     ]
    }
   ],
   "source": [
    "param_test_7={\n",
    "    'subsample':[i/100 for i in range(80,100,5)],\n",
    "    'colsample_bytree':[i/100 for i in range(80,100,5)]\n",
    "}\n",
    "\n",
    "gsearch7 = model_selection.GridSearchCV(XGBRegressor(n_estimators=300,learning_rate=0.011,max_depth=5,min_child_weight=5,gamma=0,subsample=0.8,colsample_bytree=0.8,nthread=4,scale_pos_weight=1,seed=27),param_grid=param_test_7,scoring='neg_mean_absolute_error',cv=5,n_jobs=4,iid=False)\n",
    "gsearch7.fit(X_train,y_train)\n",
    "print(gsearch7.best_params_)"
   ]
  },
  {
   "cell_type": "code",
   "execution_count": 31,
   "metadata": {},
   "outputs": [
    {
     "name": "stdout",
     "output_type": "stream",
     "text": [
      "{'reg_alpha': 1}\n"
     ]
    }
   ],
   "source": [
    "param_test_8={\n",
    "    'reg_alpha':[1e-5, 1e-2, 0.1, 1, 100]\n",
    "}\n",
    "\n",
    "gsearch8 = model_selection.GridSearchCV(XGBRegressor(n_estimators=300,learning_rate=0.011,max_depth=5,min_child_weight=5,gamma=0,subsample=0.85,colsample_bytree=0.95,nthread=4,scale_pos_weight=1,seed=27),param_grid=param_test_8,scoring='neg_mean_absolute_error',cv=5,n_jobs=4,iid=False)\n",
    "gsearch8.fit(X_train,y_train)\n",
    "print(gsearch8.best_params_)"
   ]
  },
  {
   "cell_type": "code",
   "execution_count": 32,
   "metadata": {},
   "outputs": [
    {
     "name": "stdout",
     "output_type": "stream",
     "text": [
      "{'reg_alpha': 1.0}\n"
     ]
    }
   ],
   "source": [
    "param_test_9={\n",
    "    'reg_alpha':[i/10 for i in range(1,15,1)]\n",
    "}\n",
    "\n",
    "gsearch9 = model_selection.GridSearchCV(XGBRegressor(n_estimators=300,learning_rate=0.011,max_depth=5,min_child_weight=5,gamma=0,subsample=0.85,colsample_bytree=0.95,nthread=4,scale_pos_weight=1,seed=27),param_grid=param_test_9,scoring='neg_mean_absolute_error',cv=5,n_jobs=4,iid=False)\n",
    "gsearch9.fit(X_train,y_train)\n",
    "print(gsearch9.best_params_)"
   ]
  },
  {
   "cell_type": "code",
   "execution_count": 33,
   "metadata": {},
   "outputs": [
    {
     "name": "stdout",
     "output_type": "stream",
     "text": [
      "50\n",
      "Target encoding XGB:\n",
      "7.7484419230819315\n",
      "100\n",
      "Target encoding XGB:\n",
      "7.508130707047856\n",
      "150\n",
      "Target encoding XGB:\n",
      "7.418508599241657\n",
      "200\n",
      "Target encoding XGB:\n",
      "7.387742712788755\n",
      "250\n",
      "Target encoding XGB:\n",
      "7.379607651477367\n",
      "300\n",
      "Target encoding XGB:\n",
      "7.379848247732132\n",
      "350\n",
      "Target encoding XGB:\n",
      "7.382126320714116\n",
      "400\n",
      "Target encoding XGB:\n",
      "7.385206734070664\n",
      "450\n",
      "Target encoding XGB:\n",
      "7.388576201216322\n",
      "500\n",
      "Target encoding XGB:\n",
      "7.392045312600194\n"
     ]
    }
   ],
   "source": [
    "for i in range(50,550,50):\n",
    "    XGBmodel=XGBRegressor(n_estimators=i,learning_rate=0.011,max_depth=5,min_child_weight=5,gamma=0,subsample=0.85,colsample_bytree=0.95,nthread=4,scale_pos_weight=1,seed=27,reg_alpha=1)\n",
    "    print(i)\n",
    "    score(XGBmodel,'XGB')"
   ]
  },
  {
   "cell_type": "code",
   "execution_count": 34,
   "metadata": {},
   "outputs": [],
   "source": [
    "#end model\n",
    "model=XGBRegressor(n_estimators=250,learning_rate=0.011,max_depth=5,min_child_weight=5,gamma=0,subsample=0.85,colsample_bytree=0.95,nthread=4,scale_pos_weight=1,seed=27,reg_alpha=1)"
   ]
  },
  {
   "cell_type": "code",
   "execution_count": 35,
   "metadata": {},
   "outputs": [
    {
     "name": "stdout",
     "output_type": "stream",
     "text": [
      "Index(['Overall Kills', 'Overall Deaths', 'Overal Kill / Death',\n",
      "       'Overall Kill / Round', 'Overall Rounds with Kills',\n",
      "       'Overall Kill - Death Diff', 'Opening Total Kills',\n",
      "       'Opening Total Deaths', 'Opening Kill Ratio', 'Opening Kill rating',\n",
      "       'Opening 1st kill in won rounds float',\n",
      "       'Opening Team win percent after 1st kill float', 'Player_target',\n",
      "       'Player Team_target', 'Opposing Team_target'],\n",
      "      dtype='object')\n"
     ]
    },
    {
     "name": "stderr",
     "output_type": "stream",
     "text": [
      "C:\\Users\\jefms\\AppData\\Local\\Programs\\Python\\Python36\\lib\\site-packages\\sklearn\\svm\\_base.py:947: ConvergenceWarning: Liblinear failed to converge, increase the number of iterations.\n",
      "  \"the number of iterations.\", ConvergenceWarning)\n"
     ]
    }
   ],
   "source": [
    "#feature selection\n",
    "from sklearn.feature_selection import SelectFromModel\n",
    "from sklearn.linear_model import LogisticRegression\n",
    "\n",
    "logistic = LogisticRegression(C=2,penalty='l1',random_state=1,solver='liblinear').fit(X_train,y_train)\n",
    "feature_model = SelectFromModel(logistic,prefit=True)\n",
    "\n",
    "X_train_new = feature_model.transform(X_train)\n",
    "\n",
    "selected_features = pd.DataFrame(feature_model.inverse_transform(X_train_new),\n",
    "                                index=X_train.index,\n",
    "                                columns=X_train.columns)\n",
    "\n",
    "selected_columns = selected_features.columns[selected_features.var() != 0]\n",
    "X_train_featured = X_train[selected_columns]\n",
    "print(selected_columns)"
   ]
  },
  {
   "cell_type": "code",
   "execution_count": 36,
   "metadata": {},
   "outputs": [],
   "source": [
    "def score2(model,modelname):\n",
    "    score = -1*cross_val_score(model,X_train_featured,y_train,\n",
    "                                cv=5,\n",
    "                                scoring='neg_mean_absolute_error')\n",
    "    print('Target encoding '+modelname+':')\n",
    "    print(score.mean())\n"
   ]
  },
  {
   "cell_type": "code",
   "execution_count": 37,
   "metadata": {},
   "outputs": [
    {
     "name": "stdout",
     "output_type": "stream",
     "text": [
      "50\n",
      "Target encoding XGB:\n",
      "7.771561093359362\n",
      "100\n",
      "Target encoding XGB:\n",
      "7.514220150864412\n",
      "150\n",
      "Target encoding XGB:\n",
      "7.409665811705324\n",
      "200\n",
      "Target encoding XGB:\n",
      "7.367371506395204\n",
      "250\n",
      "Target encoding XGB:\n",
      "7.350952847505523\n",
      "300\n",
      "Target encoding XGB:\n",
      "7.347481252461611\n",
      "350\n",
      "Target encoding XGB:\n",
      "7.346147464155917\n",
      "400\n",
      "Target encoding XGB:\n",
      "7.34618029152958\n",
      "450\n",
      "Target encoding XGB:\n",
      "7.347701237931967\n",
      "500\n",
      "Target encoding XGB:\n",
      "7.350798465916355\n"
     ]
    }
   ],
   "source": [
    "for i in range(50,550,50):\n",
    "    XGBmodel=XGBRegressor(n_estimators=i,learning_rate=0.01,max_depth=5,min_child_weight=5,gamma=0,subsample=0.85,colsample_bytree=0.95,nthread=4,scale_pos_weight=1,seed=27,reg_alpha=1)\n",
    "    print(i)\n",
    "    score2(XGBmodel,'XGB')"
   ]
  },
  {
   "cell_type": "code",
   "execution_count": 38,
   "metadata": {},
   "outputs": [
    {
     "data": {
      "text/plain": [
       "XGBRegressor(base_score=0.5, booster=None, colsample_bylevel=1,\n",
       "             colsample_bynode=1, colsample_bytree=0.95, gamma=0, gpu_id=-1,\n",
       "             importance_type='gain', interaction_constraints=None,\n",
       "             learning_rate=0.01, max_delta_step=0, max_depth=5,\n",
       "             min_child_weight=5, missing=nan, monotone_constraints=None,\n",
       "             n_estimators=300, n_jobs=4, nthread=4, num_parallel_tree=1,\n",
       "             objective='reg:squarederror', random_state=27, reg_alpha=1,\n",
       "             reg_lambda=1, scale_pos_weight=1, seed=27, subsample=0.85,\n",
       "             tree_method=None, validate_parameters=False, verbosity=None)"
      ]
     },
     "execution_count": 38,
     "metadata": {},
     "output_type": "execute_result"
    }
   ],
   "source": [
    "model = XGBRegressor(n_estimators=300,learning_rate=0.01,max_depth=5,min_child_weight=5,gamma=0,subsample=0.85,colsample_bytree=0.95,nthread=4,scale_pos_weight=1,seed=27,reg_alpha=1)\n",
    "model.fit(X_train_featured,y_train)"
   ]
  },
  {
   "cell_type": "code",
   "execution_count": 42,
   "metadata": {},
   "outputs": [],
   "source": [
    "import pickle\n",
    "filename = 'finalized_model.sav'\n",
    "pickle.dump(model,open(filename,'wb'))"
   ]
  }
 ],
 "metadata": {
  "kernelspec": {
   "display_name": "Python 3",
   "language": "python",
   "name": "python3"
  },
  "language_info": {
   "codemirror_mode": {
    "name": "ipython",
    "version": 3
   },
   "file_extension": ".py",
   "mimetype": "text/x-python",
   "name": "python",
   "nbconvert_exporter": "python",
   "pygments_lexer": "ipython3",
   "version": "3.6.3rc1"
  }
 },
 "nbformat": 4,
 "nbformat_minor": 4
}
